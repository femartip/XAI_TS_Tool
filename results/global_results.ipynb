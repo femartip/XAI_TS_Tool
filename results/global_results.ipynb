{
 "cells": [
  {
   "cell_type": "code",
   "execution_count": 12,
   "metadata": {},
   "outputs": [],
   "source": [
    "import pandas as pd\n",
    "import matplotlib.pyplot as plt\n",
    "import os"
   ]
  },
  {
   "cell_type": "code",
   "execution_count": 13,
   "metadata": {},
   "outputs": [
    {
     "data": {
      "text/html": [
       "<div>\n",
       "<style scoped>\n",
       "    .dataframe tbody tr th:only-of-type {\n",
       "        vertical-align: middle;\n",
       "    }\n",
       "\n",
       "    .dataframe tbody tr th {\n",
       "        vertical-align: top;\n",
       "    }\n",
       "\n",
       "    .dataframe thead th {\n",
       "        text-align: right;\n",
       "    }\n",
       "</style>\n",
       "<table border=\"1\" class=\"dataframe\">\n",
       "  <thead>\n",
       "    <tr style=\"text-align: right;\">\n",
       "      <th></th>\n",
       "      <th>dataset</th>\n",
       "      <th>model</th>\n",
       "      <th>simp_algorithm</th>\n",
       "      <th>performance</th>\n",
       "      <th>knee(x,y)</th>\n",
       "      <th>time</th>\n",
       "    </tr>\n",
       "  </thead>\n",
       "  <tbody>\n",
       "    <tr>\n",
       "      <th>1</th>\n",
       "      <td>ProximalPhalanxOutlineCorrectTEST_normalized</td>\n",
       "      <td>logistic-regression_norm.pkl</td>\n",
       "      <td>BU</td>\n",
       "      <td>0.447152</td>\n",
       "      <td>(0.04443037974683545, 0.0)</td>\n",
       "      <td>0.282440</td>\n",
       "    </tr>\n",
       "    <tr>\n",
       "      <th>2</th>\n",
       "      <td>ProximalPhalanxOutlineCorrectTEST_normalized</td>\n",
       "      <td>logistic-regression_norm.pkl</td>\n",
       "      <td>VC</td>\n",
       "      <td>0.872785</td>\n",
       "      <td>(1.0, 1.0)</td>\n",
       "      <td>0.016343</td>\n",
       "    </tr>\n",
       "    <tr>\n",
       "      <th>3</th>\n",
       "      <td>ProximalPhalanxOutlineCorrectTEST_normalized</td>\n",
       "      <td>logistic-regression_norm.pkl</td>\n",
       "      <td>RDP</td>\n",
       "      <td>0.896519</td>\n",
       "      <td>(0.13151898734177217, 1.0)</td>\n",
       "      <td>0.564308</td>\n",
       "    </tr>\n",
       "    <tr>\n",
       "      <th>6</th>\n",
       "      <td>ItalyPowerDemandTEST_normalized</td>\n",
       "      <td>logistic-regression_norm.pkl</td>\n",
       "      <td>BU</td>\n",
       "      <td>0.662132</td>\n",
       "      <td>(0.14608695652173911, 0.4471744471744472)</td>\n",
       "      <td>0.051812</td>\n",
       "    </tr>\n",
       "    <tr>\n",
       "      <th>8</th>\n",
       "      <td>MoteStrainTEST_normalized</td>\n",
       "      <td>decision-tree_norm.pkl</td>\n",
       "      <td>BU</td>\n",
       "      <td>0.987952</td>\n",
       "      <td>(1.0120481927710847, 1.0)</td>\n",
       "      <td>0.310772</td>\n",
       "    </tr>\n",
       "  </tbody>\n",
       "</table>\n",
       "</div>"
      ],
      "text/plain": [
       "                                        dataset                         model  \\\n",
       "1  ProximalPhalanxOutlineCorrectTEST_normalized  logistic-regression_norm.pkl   \n",
       "2  ProximalPhalanxOutlineCorrectTEST_normalized  logistic-regression_norm.pkl   \n",
       "3  ProximalPhalanxOutlineCorrectTEST_normalized  logistic-regression_norm.pkl   \n",
       "6               ItalyPowerDemandTEST_normalized  logistic-regression_norm.pkl   \n",
       "8                     MoteStrainTEST_normalized        decision-tree_norm.pkl   \n",
       "\n",
       "  simp_algorithm  performance                                  knee(x,y)  \\\n",
       "1             BU     0.447152                 (0.04443037974683545, 0.0)   \n",
       "2             VC     0.872785                                 (1.0, 1.0)   \n",
       "3            RDP     0.896519                 (0.13151898734177217, 1.0)   \n",
       "6             BU     0.662132  (0.14608695652173911, 0.4471744471744472)   \n",
       "8             BU     0.987952                  (1.0120481927710847, 1.0)   \n",
       "\n",
       "       time  \n",
       "1  0.282440  \n",
       "2  0.016343  \n",
       "3  0.564308  \n",
       "6  0.051812  \n",
       "8  0.310772  "
      ]
     },
     "execution_count": 13,
     "metadata": {},
     "output_type": "execute_result"
    }
   ],
   "source": [
    "results = pd.read_csv('results.csv')\n",
    "results = results.query(\"simp_algorithm == ['OS','RDP','VC','BU']\")\n",
    "results.head(5)"
   ]
  },
  {
   "cell_type": "code",
   "execution_count": 14,
   "metadata": {},
   "outputs": [
    {
     "name": "stdout",
     "output_type": "stream",
     "text": [
      "22\n",
      "4\n",
      "4\n"
     ]
    }
   ],
   "source": [
    "print(len(results['dataset'].unique()))\n",
    "print(len(results['model'].unique()))\n",
    "print(len(results['simp_algorithm'].unique()))"
   ]
  },
  {
   "cell_type": "code",
   "execution_count": 15,
   "metadata": {},
   "outputs": [
    {
     "name": "stdout",
     "output_type": "stream",
     "text": [
      "Sum of AUC per algorithm\n",
      "OS:  41.56891546931232\n",
      "RDP:  52.241863209094525\n",
      "BU:  55.29482684534684\n",
      "VC:  58.78482881691798\n"
     ]
    }
   ],
   "source": [
    "os_alg = results.query('simp_algorithm == \"OS\"')[\"performance\"].sum()\n",
    "rdp_alg = results.query('simp_algorithm == \"RDP\"')[\"performance\"].sum()\n",
    "bu_alg = results.query('simp_algorithm == \"BU\"')[\"performance\"].sum()\n",
    "vc_alg = results.query('simp_algorithm == \"VC\"')[\"performance\"].sum()\n",
    "print(\"Sum of AUC per algorithm\")\n",
    "print(\"OS: \", os_alg)\n",
    "print(\"RDP: \", rdp_alg)\n",
    "print(\"BU: \", bu_alg)\n",
    "print(\"VC: \", vc_alg)\n",
    "\n"
   ]
  },
  {
   "cell_type": "code",
   "execution_count": 16,
   "metadata": {},
   "outputs": [
    {
     "name": "stdout",
     "output_type": "stream",
     "text": [
      "Mean of AUC per algorithm\n",
      "OS:  0.6113075804310636\n",
      "RDP:  0.7463123315584932\n",
      "BU:  0.7899260977906691\n",
      "VC:  0.839783268813114\n"
     ]
    }
   ],
   "source": [
    "os_alg = results.query('simp_algorithm == \"OS\"')[\"performance\"].mean()\n",
    "rdp_alg = results.query('simp_algorithm == \"RDP\"')[\"performance\"].mean()\n",
    "bu_alg = results.query('simp_algorithm == \"BU\"')[\"performance\"].mean()\n",
    "vc_alg = results.query('simp_algorithm == \"VC\"')[\"performance\"].mean()\n",
    "print(\"Mean of AUC per algorithm\")\n",
    "print(\"OS: \", os_alg)\n",
    "print(\"RDP: \", rdp_alg)\n",
    "print(\"BU: \", bu_alg)\n",
    "print(\"VC: \", vc_alg)"
   ]
  },
  {
   "cell_type": "code",
   "execution_count": 17,
   "metadata": {},
   "outputs": [
    {
     "name": "stdout",
     "output_type": "stream",
     "text": [
      "Mean of AUC per algorithm and model\n",
      "OS:  model\n",
      "cnn_norm.pth                    0.634564\n",
      "decision-tree_norm.pkl          0.581984\n",
      "knn_norm.pkl                    0.585914\n",
      "logistic-regression_norm.pkl    0.642313\n",
      "Name: performance, dtype: float64\n",
      "RDP:  model\n",
      "cnn_norm.pth                    0.784299\n",
      "decision-tree_norm.pkl          0.663398\n",
      "knn_norm.pkl                    0.754213\n",
      "logistic-regression_norm.pkl    0.784226\n",
      "Name: performance, dtype: float64\n",
      "BU:  model\n",
      "cnn_norm.pth                    0.789248\n",
      "decision-tree_norm.pkl          0.726481\n",
      "knn_norm.pkl                    0.822051\n",
      "logistic-regression_norm.pkl    0.821869\n",
      "Name: performance, dtype: float64\n",
      "VC:  model\n",
      "cnn_norm.pth                    0.863470\n",
      "decision-tree_norm.pkl          0.768100\n",
      "knn_norm.pkl                    0.844616\n",
      "logistic-regression_norm.pkl    0.881483\n",
      "Name: performance, dtype: float64\n"
     ]
    }
   ],
   "source": [
    "os_alg = results.query('simp_algorithm == \"OS\"')\n",
    "os_alg = os_alg.groupby(\"model\")[\"performance\"].mean()\n",
    "rdp_alg = results.query('simp_algorithm == \"RDP\"').groupby(\"model\")[\"performance\"].mean()\n",
    "bu_alg = results.query('simp_algorithm == \"BU\"').groupby(\"model\")[\"performance\"].mean()\n",
    "vc_alg = results.query('simp_algorithm == \"VC\"').groupby(\"model\")[\"performance\"].mean()\n",
    "print(\"Mean of AUC per algorithm and model\")\n",
    "print(\"OS: \", os_alg)\n",
    "print(\"RDP: \", rdp_alg)\n",
    "print(\"BU: \", bu_alg)\n",
    "print(\"VC: \", vc_alg)"
   ]
  },
  {
   "cell_type": "markdown",
   "metadata": {},
   "source": [
    "## Only for CNN"
   ]
  },
  {
   "cell_type": "code",
   "execution_count": 18,
   "metadata": {},
   "outputs": [],
   "source": [
    "results = results.query('model == \"cnn_norm.pth\"')"
   ]
  },
  {
   "cell_type": "code",
   "execution_count": 19,
   "metadata": {},
   "outputs": [
    {
     "name": "stdout",
     "output_type": "stream",
     "text": [
      "Sum of AUC per algorithm\n",
      "OS:  10.153016911796167\n",
      "RDP:  12.548780032805919\n",
      "BU:  12.627969280984612\n",
      "VC:  13.81551504202168\n"
     ]
    }
   ],
   "source": [
    "os_alg = results.query('simp_algorithm == \"OS\"')[\"performance\"].sum()\n",
    "rdp_alg = results.query('simp_algorithm == \"RDP\"')[\"performance\"].sum()\n",
    "bu_alg = results.query('simp_algorithm == \"BU\"')[\"performance\"].sum()\n",
    "vc_alg = results.query('simp_algorithm == \"VC\"')[\"performance\"].sum()\n",
    "print(\"Sum of AUC per algorithm\")\n",
    "print(\"OS: \", os_alg)\n",
    "print(\"RDP: \", rdp_alg)\n",
    "print(\"BU: \", bu_alg)\n",
    "print(\"VC: \", vc_alg)"
   ]
  },
  {
   "cell_type": "code",
   "execution_count": 20,
   "metadata": {},
   "outputs": [
    {
     "name": "stdout",
     "output_type": "stream",
     "text": [
      "Mean of AUC per algorithm\n",
      "OS:  0.6345635569872604\n",
      "RDP:  0.7842987520503699\n",
      "BU:  0.7892480800615382\n",
      "VC:  0.863469690126355\n"
     ]
    }
   ],
   "source": [
    "os_alg = results.query('simp_algorithm == \"OS\"')[\"performance\"].mean()\n",
    "rdp_alg = results.query('simp_algorithm == \"RDP\"')[\"performance\"].mean()\n",
    "bu_alg = results.query('simp_algorithm == \"BU\"')[\"performance\"].mean()\n",
    "vc_alg = results.query('simp_algorithm == \"VC\"')[\"performance\"].mean()\n",
    "print(\"Mean of AUC per algorithm\")\n",
    "print(\"OS: \", os_alg)\n",
    "print(\"RDP: \", rdp_alg)\n",
    "print(\"BU: \", bu_alg)\n",
    "print(\"VC: \", vc_alg)"
   ]
  },
  {
   "cell_type": "code",
   "execution_count": 21,
   "metadata": {},
   "outputs": [
    {
     "name": "stdout",
     "output_type": "stream",
     "text": [
      "Best model for GunPointOldVersusYoungTEST_normalized is cnn_norm.pth, simp alg.  with AUC 1.0 at knee points (0.307248322147651, 1.0)\n",
      "Best model for MiddlePhalanxTWTEST_normalized is cnn_norm.pth, simp alg.  with AUC 1.0 at knee points (0.1037974683544304, 1.0)\n",
      "Best model for DistalPhalanxOutlineAgeGroupTEST_normalized is cnn_norm.pth, simp alg.  with AUC 1.0 at knee points (0.11468354430379747, 1.0)\n",
      "Best model for ECG5000TEST_normalized is cnn_norm.pth, simp alg.  with AUC 1.0 at knee points (0.01043165467625899, 1.0)\n",
      "Best model for MiddlePhalanxOutlineAgeGroupTEST_normalized is cnn_norm.pth, simp alg.  with AUC 1.0 at knee points (0.13708860759493674, 1.0)\n",
      "Best model for ProximalPhalanxOutlineAgeGroupTEST_normalized is cnn_norm.pth, simp alg.  with AUC 1.0 at knee points (0.11797468354430382, 1.0)\n"
     ]
    }
   ],
   "source": [
    "datasets = results['dataset'].unique()\n",
    "\n",
    "for dataset in datasets:\n",
    "    dat_df = results.query(f'dataset == \"{dataset}\"')\n",
    "    simp_algorithms = dat_df['simp_algorithm']\n",
    "    #print(simp_algorithms)\n",
    "    knees_df = dat_df[\"knee(x,y)\"]\n",
    "    #comb = zip(simp_algorithms, knees_df)\n",
    "    knees = [[float(knee.replace(\"(\", \"\").replace(\")\", \"\").split(\",\")[0]), float(knee.replace(\"(\", \"\").replace(\")\", \"\").split(\",\")[1])] for knee in knees_df]\n",
    "\n",
    "    x_values = [x for x, y in knees]\n",
    "    y_values = [y for x, y in knees]\n",
    "\n",
    "    min_x = min(x_values)\n",
    "    min_x_index = x_values.index(min_x)\n",
    "    y = y_values[min_x_index]\n",
    "\n",
    "    y_max = max(y_values)\n",
    "    if y == y_max:\n",
    "        #sim_alg = simp_algorithms[min_x_index]\n",
    "        print(f\"Best model for {dataset} is {dat_df['model'].values[0]}, simp alg.  with AUC {y} at knee points {min_x, y}\")\n",
    "    "
   ]
  },
  {
   "cell_type": "code",
   "execution_count": 22,
   "metadata": {},
   "outputs": [],
   "source": [
    "#model resutls\n",
    "#models_paths = [model_data for model_data in os.listdir() if ]"
   ]
  },
  {
   "cell_type": "code",
   "execution_count": 23,
   "metadata": {},
   "outputs": [
    {
     "name": "stdout",
     "output_type": "stream",
     "text": [
      "[6.0, 6.0, 6.0, 6.0, 6.0, 6.0, 6.0, 6.0, 6.0, 6.0, 6.0, 6.0, 6.0, 6.0, 6.0, 6.0, 6.0, 6.0, 6.0, 6.0, 6.0, 6.0, 6.0, 6.0, 6.0, 6.0, 6.0, 6.0, 6.0, 6.0, 6.0, 6.0, 6.0, 6.0, 6.0, 6.0, 6.0, 6.0, 6.0, 6.0, 6.0, 6.0, 6.0, 6.0, 6.0, 6.0, 6.0, 6.0, 6.0, 6.0, 6.0, 6.0, 6.0, 6.0, 6.0, 6.0, 6.0, 6.0, 6.0, 6.0, 6.0, 6.0, 6.0, 6.0, 6.0, 6.0, 6.0, 6.0, 6.0, 6.0, 6.0, 6.0, 6.0, 6.0, 6.0, 6.0, 6.0, 6.0, 6.0, 6.0, 6.0, 6.0, 6.0, 6.0, 6.0, 6.0, 6.0, 6.0, 6.0, 6.0, 6.0, 6.0, 6.0, 6.0, 6.0, 6.0, 6.0, 6.0, 6.0, 6.0]\n",
      "{6.0}\n"
     ]
    }
   ],
   "source": [
    "import numpy as np\n",
    "\n",
    "electric_device = np.load(\"../data/ElectricDevices/ElectricDevices_TEST_normalized.npy\")\n",
    "\n",
    "labels = [arr[0] for arr in electric_device]\n",
    "print(labels[:100])\n",
    "print(set(labels[:100]))\n",
    "#print(labels.count())\n"
   ]
  },
  {
   "cell_type": "code",
   "execution_count": null,
   "metadata": {},
   "outputs": [],
   "source": []
  }
 ],
 "metadata": {
  "kernelspec": {
   "display_name": "xai_tsc",
   "language": "python",
   "name": "python3"
  },
  "language_info": {
   "codemirror_mode": {
    "name": "ipython",
    "version": 3
   },
   "file_extension": ".py",
   "mimetype": "text/x-python",
   "name": "python",
   "nbconvert_exporter": "python",
   "pygments_lexer": "ipython3",
   "version": "3.10.15"
  }
 },
 "nbformat": 4,
 "nbformat_minor": 2
}
